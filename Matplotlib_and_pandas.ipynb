{
  "nbformat": 4,
  "nbformat_minor": 0,
  "metadata": {
    "colab": {
      "provenance": []
    },
    "kernelspec": {
      "name": "python3",
      "display_name": "Python 3"
    },
    "language_info": {
      "name": "python"
    }
  },
  "cells": [
    {
      "cell_type": "markdown",
      "source": [
        "#Exploring Data Visualization with Matplotlib in Google Colab\n",
        "\n",
        "Welcome to this hands-on exercise on data visualization using Matplotlib in Google Colab! Matplotlib is a powerful and widely used library for creating static, animated, and interactive visualizations in Python.\n",
        "\n",
        "Upload the company_sales_data.csv given in the Github repo to your gdrive and mount your google drive for the following exercises. Read this file using Pandas or NumPy or using in-built matplotlib function."
      ],
      "metadata": {
        "id": "1e7-YENWfruA"
      }
    },
    {
      "cell_type": "code",
      "source": [
        "#import required libraries and mount gdrive here\n",
        "from google.colab import drive\n",
          "drive.mount('/content/drive')\n",
          "import pandas as pd\n",
          "import numpy as num\n",
          "import matplotlib.pyplot as plt"
      ],
      "metadata": {
        "id": "3mce9alwf6_s"
      },
      "execution_count": null,
      "outputs": []
    },
    {
      "cell_type": "markdown",
      "source": [
        "Exercise 1: Read Total profit of all months and show it using a line plot\n",
        "Total profit data provided for each month. Generated line plot must include the following properties: –\n",
        "\n",
        "Line Style dotted and Line-color should be red  \n",
        "Show legend at the lower right location.  \n",
        "X label name = Month Number  \n",
        "Y label name = Profit in dollar  \n",
        "Add a circle marker.  \n",
        "Line marker color as read  \n",
        "Line width should be 3  "
      ],
      "metadata": {
        "id": "CnP0p2G-evKz"
      }
    },
    {
      "cell_type": "code",
      "execution_count": null,
      "metadata": {
        "id": "fxHeVHtaejsL"
      },
      "outputs": [],
      "source": [
        "#code here\n",
        "import pandas as pd\n",
        "df = pd.read_csv('/content/drive/MyDrive/company_sales_data.csv')\n",
        "y=df['total_profit'].tolist()\n",
        "x=df['month_number'].tolist()\n",
        "import matplotlib.pyplot as plt\n",
        "plt.plot(x, y, color='red', linestyle='--', linewidth=3, marker='o',markeredgecolor='red')\n",
        "plt.xlabel('Month Number')\n",
        "plt.ylabel('Profit in dollar')\n",
        "plt.legend(loc='lower right')\n",
        "plt.show()"
      ]
    },
    {
      "cell_type": "markdown",
      "source": [
        "Exercise 2: Read all product sales data and show it  using a multiline plot.\n",
        " Display the number of units sold per month for each product using multiline plots. (i.e., Separate Plotline and different color for each product )."
      ],
      "metadata": {
        "id": "ILCkGHzce2Aj"
      }
    },
    {
      "cell_type": "code",
      "source": [
         "y1=df['facecream'].tolist()\n",
        "y2=df['facewash'].tolist()\n",
        "y3=df['toothpaste'].tolist()\n",
        "y4=df['bathingsoap'].tolist()\n",
        "y5=df['shampoo'].tolist()\n",
        "y6=df['moisturizer'].tolist()\n",
        
        "plt.plot(x, y1, color='red', linestyle='--', linewidth=3, marker='o',markeredgecolor='red')\n",
        "for i, j in zip(x, y1):\n",
            "plt.text(i, j, str(j), fontsize=10, ha='center', va='bottom')\n",
        "plt.plot(x, y2, color='blue', linestyle='--', linewidth=3, marker='o',markeredgecolor='blue')\n",
        "for i, j in zip(x, y2):\n",
            "plt.text(i, j, str(j), fontsize=10, ha='center', va='bottom')\n",
        "plt.plot(x, y3, color='green', linestyle='--', linewidth=3, marker='o',markeredgecolor='green')\n",
        "for i, j in zip(x, y3):\n",
            "plt.text(i, j, str(j), fontsize=10, ha='center', va='bottom')\n",
        "plt.plot(x, y4, color='yellow', linestyle='--', linewidth=3, marker='o',markeredgecolor='yellow')\n",
        "for i, j in zip(x, y4):\n",
            "plt.text(i, j, str(j), fontsize=10, ha='center', va='bottom')\n",
        "plt.plot(x, y5, color='black', linestyle='--', linewidth=3, marker='o',markeredgecolor='black')\n",
        "for i, j in zip(x, y5):\n",
            "plt.text(i, j, str(j), fontsize=10, ha='center', va='bottom')\n",
        "plt.plot(x, y6, color='pink', linestyle='--', linewidth=3, marker='o',markeredgecolor='pink')\n",
        "for i, j in zip(x, y6):\n",
            "plt.text(i, j, str(j), fontsize=10, ha='center', va='bottom')\n",
        "plt.xlabel('Month Number')\n",
        "plt.ylabel('Number of Units')\n",
        "plt.show()"
      ],
      "metadata": {
        "id": "uYkBIax0fPfv"
      },
      "execution_count": null,
      "outputs": []
    },
    {
      "cell_type": "markdown",
      "source": [
        "Exercise 3: Calculate total sale data for last year for each product and show it using a Pie chart  \n",
        "Note: In Pie chart display Number of units sold per year for each product in percentage.\n"
      ],
      "metadata": {
        "id": "ZS1DIXivfRKE"
      }
    },
    {
      "cell_type": "code",
      "source": [
        "units=[34480,18515,69910,114010,25410,18515]\n",
        "labels=["facecream","facewash","toothpaste","bathingsoap","shampoo","moisturizer"]\n",
        "plt.pie(\n",
         "units,\n",
          "labels=labels,\n",
           "autopct='%1.1f%%', \n",
            "startangle=90,      \n",
            "colors=['red', 'blue', 'green', 'yellow','black','pink']\n",
        ")\n",
        "plt.show()"
      ],
      "metadata": {
        "id": "qi30DsdOffd9"
      },
      "execution_count": null,
      "outputs": []
    }
  ]
}
